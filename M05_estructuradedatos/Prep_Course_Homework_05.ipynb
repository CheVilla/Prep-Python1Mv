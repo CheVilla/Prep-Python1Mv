{
 "cells": [
  {
   "attachments": {},
   "cell_type": "markdown",
   "metadata": {},
   "source": [
    "## Estructuras de Datos"
   ]
  },
  {
   "attachments": {},
   "cell_type": "markdown",
   "metadata": {},
   "source": [
    "1) Crear una lista que contenga nombres de ciudades del mundo que contenga más de 5 elementos e imprimir por pantalla"
   ]
  },
  {
   "cell_type": "code",
   "execution_count": 41,
   "metadata": {},
   "outputs": [
    {
     "name": "stdout",
     "output_type": "stream",
     "text": [
      "['Buenos Aires', 'Cape Town', 'Berlin', 'Yakarta', 'Camberra']\n"
     ]
    }
   ],
   "source": [
    "world_cities_list = [\"Buenos Aires\",\"Cape Town\",\"Berlin\",\"Yakarta\",\"Camberra\"]\n",
    "print(world_cities_list)"
   ]
  },
  {
   "attachments": {},
   "cell_type": "markdown",
   "metadata": {},
   "source": [
    "2) Imprimir por pantalla el segundo elemento de la lista"
   ]
  },
  {
   "cell_type": "code",
   "execution_count": 42,
   "metadata": {},
   "outputs": [
    {
     "name": "stdout",
     "output_type": "stream",
     "text": [
      "Cape Town\n"
     ]
    }
   ],
   "source": [
    "print(world_cities_list[1])"
   ]
  },
  {
   "attachments": {},
   "cell_type": "markdown",
   "metadata": {},
   "source": [
    "3) Imprimir por pantalla del segundo al cuarto elemento"
   ]
  },
  {
   "cell_type": "code",
   "execution_count": 43,
   "metadata": {},
   "outputs": [
    {
     "name": "stdout",
     "output_type": "stream",
     "text": [
      "['Cape Town', 'Berlin', 'Yakarta']\n"
     ]
    }
   ],
   "source": [
    "print(world_cities_list[1:4])"
   ]
  },
  {
   "attachments": {},
   "cell_type": "markdown",
   "metadata": {},
   "source": [
    "4) Visualizar el tipo de dato de la lista"
   ]
  },
  {
   "cell_type": "code",
   "execution_count": 44,
   "metadata": {},
   "outputs": [
    {
     "name": "stdout",
     "output_type": "stream",
     "text": [
      "<class 'list'>\n"
     ]
    }
   ],
   "source": [
    "print(type(world_cities_list))"
   ]
  },
  {
   "attachments": {},
   "cell_type": "markdown",
   "metadata": {},
   "source": [
    "5) Visualizar todos los elementos de la lista a partir del tercero de manera genérica, es decir, sin explicitar la posición del último elemento"
   ]
  },
  {
   "cell_type": "code",
   "execution_count": 45,
   "metadata": {},
   "outputs": [
    {
     "name": "stdout",
     "output_type": "stream",
     "text": [
      "['Berlin', 'Yakarta', 'Camberra']\n"
     ]
    }
   ],
   "source": [
    "print(world_cities_list[2:])"
   ]
  },
  {
   "attachments": {},
   "cell_type": "markdown",
   "metadata": {},
   "source": [
    "6) Visualizar los primeros 4 elementos de la lista"
   ]
  },
  {
   "cell_type": "code",
   "execution_count": 46,
   "metadata": {},
   "outputs": [
    {
     "name": "stdout",
     "output_type": "stream",
     "text": [
      "['Buenos Aires', 'Cape Town', 'Berlin', 'Yakarta']\n"
     ]
    }
   ],
   "source": [
    "print(world_cities_list[:4])"
   ]
  },
  {
   "attachments": {},
   "cell_type": "markdown",
   "metadata": {},
   "source": [
    "7) Agregar una ciudad más a la lista que ya exista y otra que no ¿Arroja algún tipo de error?"
   ]
  },
  {
   "cell_type": "code",
   "execution_count": 47,
   "metadata": {},
   "outputs": [
    {
     "name": "stdout",
     "output_type": "stream",
     "text": [
      "['Buenos Aires', 'Cape Town', 'Berlin', 'Yakarta', 'Camberra', 'Berlin', 'Denver']\n"
     ]
    }
   ],
   "source": [
    "world_cities_list.append(\"Berlin\")\n",
    "world_cities_list.append(\"Denver\")\n",
    "print(world_cities_list)"
   ]
  },
  {
   "attachments": {},
   "cell_type": "markdown",
   "metadata": {},
   "source": [
    "8) Agregar otra ciudad, pero en la cuarta posición"
   ]
  },
  {
   "cell_type": "code",
   "execution_count": 48,
   "metadata": {},
   "outputs": [],
   "source": [
    "world_cities_list.insert(3,\"Roma\")"
   ]
  },
  {
   "attachments": {},
   "cell_type": "markdown",
   "metadata": {},
   "source": [
    "9) Concatenar otra lista a la ya creada"
   ]
  },
  {
   "cell_type": "code",
   "execution_count": 49,
   "metadata": {},
   "outputs": [
    {
     "name": "stdout",
     "output_type": "stream",
     "text": [
      "['Buenos Aires', 'Cape Town', 'Berlin', 'Roma', 'Yakarta', 'Camberra', 'Berlin', 'Denver', 'Brasilia', 'Madrid', 'Tokio', 'Tripoli']\n"
     ]
    }
   ],
   "source": [
    "world_cities_list_2 = [\"Brasilia\",\"Madrid\",\"Tokio\",\"Tripoli\"]\n",
    "world_cities_list.extend(world_cities_list_2)\n",
    "print(world_cities_list)"
   ]
  },
  {
   "attachments": {},
   "cell_type": "markdown",
   "metadata": {},
   "source": [
    "10) Encontrar el índice de la ciudad que en el punto 7 agregamos duplicada. ¿Se nota alguna particularidad?"
   ]
  },
  {
   "cell_type": "code",
   "execution_count": 50,
   "metadata": {},
   "outputs": [
    {
     "data": {
      "text/plain": [
       "2"
      ]
     },
     "execution_count": 50,
     "metadata": {},
     "output_type": "execute_result"
    }
   ],
   "source": [
    "world_cities_list.index(\"Berlin\")"
   ]
  },
  {
   "attachments": {},
   "cell_type": "markdown",
   "metadata": {},
   "source": [
    "11) ¿Qué pasa si se busca un elemento que no existe?"
   ]
  },
  {
   "cell_type": "code",
   "execution_count": 51,
   "metadata": {},
   "outputs": [],
   "source": [
    "#world_cities_list.index(\"Bremen\")"
   ]
  },
  {
   "attachments": {},
   "cell_type": "markdown",
   "metadata": {},
   "source": [
    "12) Eliminar un elemento de la lista"
   ]
  },
  {
   "cell_type": "code",
   "execution_count": 52,
   "metadata": {},
   "outputs": [
    {
     "name": "stdout",
     "output_type": "stream",
     "text": [
      "['Buenos Aires', 'Cape Town', 'Berlin', 'Roma', 'Yakarta', 'Camberra', 'Berlin', 'Denver', 'Brasilia', 'Tokio', 'Tripoli']\n"
     ]
    }
   ],
   "source": [
    "\n",
    "world_cities_list.remove('Madrid')\n",
    "print(world_cities_list)"
   ]
  },
  {
   "attachments": {},
   "cell_type": "markdown",
   "metadata": {},
   "source": [
    "13) ¿Qué pasa si el elemento a eliminar no existe?"
   ]
  },
  {
   "cell_type": "code",
   "execution_count": 53,
   "metadata": {},
   "outputs": [],
   "source": [
    "#world_cities_list.remove('Madrid')\n",
    "#print(world_cities_list)"
   ]
  },
  {
   "attachments": {},
   "cell_type": "markdown",
   "metadata": {},
   "source": [
    "14) Extraer el úlimo elemento de la lista, guardarlo en una variable e imprimirlo"
   ]
  },
  {
   "cell_type": "code",
   "execution_count": 54,
   "metadata": {},
   "outputs": [
    {
     "name": "stdout",
     "output_type": "stream",
     "text": [
      "Tripoli\n"
     ]
    }
   ],
   "source": [
    "last_city = world_cities_list.pop()\n",
    "print(last_city)"
   ]
  },
  {
   "attachments": {},
   "cell_type": "markdown",
   "metadata": {},
   "source": [
    "15) Mostrar la lista multiplicada por 4"
   ]
  },
  {
   "cell_type": "code",
   "execution_count": 55,
   "metadata": {},
   "outputs": [
    {
     "data": {
      "text/plain": [
       "['Buenos Aires',\n",
       " 'Cape Town',\n",
       " 'Berlin',\n",
       " 'Roma',\n",
       " 'Yakarta',\n",
       " 'Camberra',\n",
       " 'Berlin',\n",
       " 'Denver',\n",
       " 'Brasilia',\n",
       " 'Tokio',\n",
       " 'Buenos Aires',\n",
       " 'Cape Town',\n",
       " 'Berlin',\n",
       " 'Roma',\n",
       " 'Yakarta',\n",
       " 'Camberra',\n",
       " 'Berlin',\n",
       " 'Denver',\n",
       " 'Brasilia',\n",
       " 'Tokio',\n",
       " 'Buenos Aires',\n",
       " 'Cape Town',\n",
       " 'Berlin',\n",
       " 'Roma',\n",
       " 'Yakarta',\n",
       " 'Camberra',\n",
       " 'Berlin',\n",
       " 'Denver',\n",
       " 'Brasilia',\n",
       " 'Tokio',\n",
       " 'Buenos Aires',\n",
       " 'Cape Town',\n",
       " 'Berlin',\n",
       " 'Roma',\n",
       " 'Yakarta',\n",
       " 'Camberra',\n",
       " 'Berlin',\n",
       " 'Denver',\n",
       " 'Brasilia',\n",
       " 'Tokio']"
      ]
     },
     "execution_count": 55,
     "metadata": {},
     "output_type": "execute_result"
    }
   ],
   "source": [
    "world_cities_list*4"
   ]
  },
  {
   "attachments": {},
   "cell_type": "markdown",
   "metadata": {},
   "source": [
    "16) Crear una tupla que contenga los números enteros del 1 al 20"
   ]
  },
  {
   "cell_type": "code",
   "execution_count": 56,
   "metadata": {},
   "outputs": [
    {
     "name": "stdout",
     "output_type": "stream",
     "text": [
      "(1, 2, 3, 4, 5, 6, 7, 8, 9, 10, 11, 12, 13, 14, 15, 16, 17, 18, 19, 20)\n"
     ]
    }
   ],
   "source": [
    "tupla_ent = tuple(range(1,21))\n",
    "print(tupla_ent)"
   ]
  },
  {
   "attachments": {},
   "cell_type": "markdown",
   "metadata": {},
   "source": [
    "17) Imprimir desde el índice 10 al 15 de la tupla"
   ]
  },
  {
   "cell_type": "code",
   "execution_count": 57,
   "metadata": {},
   "outputs": [
    {
     "name": "stdout",
     "output_type": "stream",
     "text": [
      "(11, 12, 13, 14, 15)\n"
     ]
    }
   ],
   "source": [
    "print(tupla_ent[10:15])"
   ]
  },
  {
   "attachments": {},
   "cell_type": "markdown",
   "metadata": {},
   "source": [
    "18) Evaluar si los números 20 y 30 están dentro de la tupla"
   ]
  },
  {
   "cell_type": "code",
   "execution_count": 58,
   "metadata": {},
   "outputs": [
    {
     "name": "stdout",
     "output_type": "stream",
     "text": [
      "True\n",
      "False\n"
     ]
    }
   ],
   "source": [
    "print(20 in tupla_ent)\n",
    "print(30 in tupla_ent)"
   ]
  },
  {
   "attachments": {},
   "cell_type": "markdown",
   "metadata": {},
   "source": [
    "19) Con la lista creada en el punto 1, validar la existencia del elemento 'París' y si no existe, agregarlo. Utilizar una variable e informar lo sucedido."
   ]
  },
  {
   "cell_type": "code",
   "execution_count": 59,
   "metadata": {},
   "outputs": [
    {
     "name": "stdout",
     "output_type": "stream",
     "text": [
      "['Buenos Aires', 'Cape Town', 'Berlin', 'Roma', 'Yakarta', 'Camberra', 'Berlin', 'Denver', 'Brasilia', 'Tokio', 'Paris']\n"
     ]
    }
   ],
   "source": [
    "if(\"Paris\" in world_cities_list):\n",
    "    print(\"Paris esta en la lista\")\n",
    "else:\n",
    "    world_cities_list.append(\"Paris\")\n",
    "    print(world_cities_list)"
   ]
  },
  {
   "attachments": {},
   "cell_type": "markdown",
   "metadata": {},
   "source": [
    "20) Mostrar la cantidad de veces que se encuentra un elemento específico dentro de la tupla y de la lista"
   ]
  },
  {
   "cell_type": "code",
   "execution_count": 60,
   "metadata": {},
   "outputs": [
    {
     "name": "stdout",
     "output_type": "stream",
     "text": [
      "1\n",
      "1\n"
     ]
    }
   ],
   "source": [
    "print(tupla_ent.count(7))\n",
    "print(world_cities_list.count(\"Paris\"))"
   ]
  },
  {
   "attachments": {},
   "cell_type": "markdown",
   "metadata": {},
   "source": [
    "21) Convertir la tupla en una lista"
   ]
  },
  {
   "cell_type": "code",
   "execution_count": 62,
   "metadata": {},
   "outputs": [
    {
     "name": "stdout",
     "output_type": "stream",
     "text": [
      "<class 'list'>\n"
     ]
    }
   ],
   "source": [
    "list_ent = list(tupla_ent)\n",
    "print(type(list_ent))"
   ]
  },
  {
   "attachments": {},
   "cell_type": "markdown",
   "metadata": {},
   "source": [
    "22) Desempaquetar solo los primeros 3 elementos de la tupla en 3 variables"
   ]
  },
  {
   "cell_type": "code",
   "execution_count": 64,
   "metadata": {},
   "outputs": [
    {
     "name": "stdout",
     "output_type": "stream",
     "text": [
      "1\n",
      "2\n",
      "3\n"
     ]
    }
   ],
   "source": [
    "v1 = tupla_ent[0]\n",
    "v2 = tupla_ent[1]\n",
    "v3 = tupla_ent[2]\n",
    "print(v1)\n",
    "print(v2)\n",
    "print(v3)"
   ]
  },
  {
   "attachments": {},
   "cell_type": "markdown",
   "metadata": {},
   "source": [
    "23) Crear un diccionario utilizando la lista crada en el punto 1, asignandole la clave \"ciudad\". Agregar tambien otras claves, como puede ser \"Pais\" y \"Continente\"."
   ]
  },
  {
   "cell_type": "code",
   "execution_count": 67,
   "metadata": {},
   "outputs": [
    {
     "name": "stdout",
     "output_type": "stream",
     "text": [
      "['Buenos Aires', 'Cape Town', 'Berlin', 'Roma', 'Yakarta', 'Camberra', 'Berlin', 'Denver', 'Brasilia', 'Tokio', 'Paris']\n"
     ]
    }
   ],
   "source": [
    "print(world_cities_list)\n",
    "world_dicc = {\"Ciudad\" : world_cities_list , \"Pais\": [\"ARG\",\"RSA\",\"ALE\",\"ITA\",\"IND\",\"AUS\",\"ALE\",\"EUA\",\"BRA\",\"JAP\",\"FRA\"],\"Continente\": [\"AME\",\"AFR\",\"EUR\",\"EUR\",\"ASI\",\"OCE\",\"EUR\",\"AME\",\"AME\",\"ASI\",\"EUR\"]}"
   ]
  },
  {
   "cell_type": "code",
   "execution_count": 69,
   "metadata": {},
   "outputs": [
    {
     "name": "stdout",
     "output_type": "stream",
     "text": [
      "{'Ciudad': ['Buenos Aires', 'Cape Town', 'Berlin', 'Roma', 'Yakarta', 'Camberra', 'Berlin', 'Denver', 'Brasilia', 'Tokio', 'Paris'], 'Pais': ['ARG', 'RSA', 'ALE', 'ITA', 'IND', 'AUS', 'ALE', 'EUA', 'BRA', 'JAP', 'FRA'], 'Continente': ['AME', 'AFR', 'EUR', 'EUR', 'ASI', 'OCE', 'EUR', 'AME', 'AME', 'ASI', 'EUR']}\n"
     ]
    }
   ],
   "source": [
    "print(world_dicc)"
   ]
  },
  {
   "attachments": {},
   "cell_type": "markdown",
   "metadata": {},
   "source": [
    "24) Imprimir las claves del diccionario"
   ]
  },
  {
   "cell_type": "code",
   "execution_count": 70,
   "metadata": {},
   "outputs": [
    {
     "name": "stdout",
     "output_type": "stream",
     "text": [
      "dict_keys(['Ciudad', 'Pais', 'Continente'])\n"
     ]
    }
   ],
   "source": [
    "print(world_dicc.keys())\n"
   ]
  },
  {
   "attachments": {},
   "cell_type": "markdown",
   "metadata": {},
   "source": [
    "25) Imprimir las ciudades a través de su clave"
   ]
  },
  {
   "cell_type": "code",
   "execution_count": 75,
   "metadata": {},
   "outputs": [
    {
     "name": "stdout",
     "output_type": "stream",
     "text": [
      "['Buenos Aires', 'Cape Town', 'Berlin', 'Roma', 'Yakarta', 'Camberra', 'Berlin', 'Denver', 'Brasilia', 'Tokio', 'Paris']\n"
     ]
    }
   ],
   "source": [
    "print(world_dicc[\"Ciudad\"])"
   ]
  }
 ],
 "metadata": {
  "interpreter": {
   "hash": "c85384e4cb51c8b72350f3a8712cc8351fdc3955e32a27f9b60c6242ab125f01"
  },
  "kernelspec": {
   "display_name": "Python 3 (ipykernel)",
   "language": "python",
   "name": "python3"
  },
  "language_info": {
   "codemirror_mode": {
    "name": "ipython",
    "version": 3
   },
   "file_extension": ".py",
   "mimetype": "text/x-python",
   "name": "python",
   "nbconvert_exporter": "python",
   "pygments_lexer": "ipython3",
   "version": "3.10.12"
  }
 },
 "nbformat": 4,
 "nbformat_minor": 4
}
